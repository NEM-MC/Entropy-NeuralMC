{
 "cells": [
  {
   "cell_type": "markdown",
   "metadata": {},
   "source": [
    "# Demontration of neural network MCMC sampler trained with maximum Entropy objective \n"
   ]
  },
  {
   "cell_type": "markdown",
   "metadata": {},
   "source": [
    "## Please run Cells in the order provided.\n",
    "\n",
    "Requirements: pytorch 1.6.0 (cuda not required), numpy, matplotlib"
   ]
  },
  {
   "cell_type": "markdown",
   "metadata": {},
   "source": [
    "### First we import modules and setup the model"
   ]
  },
  {
   "cell_type": "code",
   "execution_count": 1,
   "metadata": {},
   "outputs": [],
   "source": [
    "import numpy as np\n",
    "import matplotlib.pyplot as plt\n",
    "import torch\n",
    "import torch.nn as nn\n",
    "from L2RW_models import L2GradRW, CovMALA\n",
    "from L2RW import L2GradRW_M, adjust_lr\n",
    "from distributions import distributions"
   ]
  },
  {
   "cell_type": "code",
   "execution_count": 2,
   "metadata": {},
   "outputs": [],
   "source": [
    "data_dim = 2\n",
    "dim = 32\n",
    "N_steps = 2\n",
    "dist = distributions('moon',d=data_dim)\n",
    "RW = L2GradRW(dist.Ex,data_dim,dim,N_steps,epsi=0.01,net_type='MLP',grad_mode='R',bias=True,act='elu') #diag_gaussian example use 0.001 epsi init\n",
    "RW_controller = L2GradRW_M(RW,beta=1e-2,beta_max=1e3,rho_beta=0.1,adapt_beta=True,a_target=0.9,\n",
    "                 lr=1e-3,momo=0.9,rms_momo=0.95,grad_norm=10,N_steps=5000)"
   ]
  },
  {
   "cell_type": "markdown",
   "metadata": {},
   "source": [
    "### Train the Sampler\n",
    "\n",
    "sldjxx is the proposal entropy (up to a constant equal to the entropy of Gaussian), it should increase during training"
   ]
  },
  {
   "cell_type": "code",
   "execution_count": null,
   "metadata": {
    "scrolled": true
   },
   "outputs": [
    {
     "name": "stdout",
     "output_type": "stream",
     "text": [
      "jump 1.058e-04, Exp jump1.058e-04, accept 1.000,log_a -1.172e-06, sldjxx -9.210,beta 1.010e-02, epsi 1.001e-02\n",
      "jump 5.683e-03, Exp jump5.599e-03, accept 0.987,log_a -4.620e-03, sldjxx -5.306,beta 2.585e-02, epsi 1.109e-02\n",
      "jump 2.608e-01, Exp jump2.532e-01, accept 0.978,log_a -8.960e-03, sldjxx -1.777,beta 6.168e-02, epsi 1.223e-02\n",
      "jump 8.246e-01, Exp jump8.014e-01, accept 0.975,log_a -2.558e-03, sldjxx -1.185,beta 1.294e-01, epsi 1.277e-02\n",
      "jump 1.106e+00, Exp jump1.029e+00, accept 0.953,log_a -1.761e-02, sldjxx -0.835,beta 2.384e-01, epsi 1.288e-02\n",
      "jump 1.917e+00, Exp jump1.704e+00, accept 0.922,log_a -3.203e-02, sldjxx -0.411,beta 3.562e-01, epsi 1.318e-02\n",
      "jump 2.342e+00, Exp jump1.945e+00, accept 0.927,log_a -4.174e-02, sldjxx -0.116,beta 4.330e-01, epsi 1.345e-02\n",
      "jump 3.428e+00, Exp jump2.569e+00, accept 0.908,log_a -7.010e-02, sldjxx 0.025,beta 4.906e-01, epsi 1.363e-02\n",
      "jump 4.143e+00, Exp jump2.955e+00, accept 0.907,log_a -5.602e-02, sldjxx 0.092,beta 5.527e-01, epsi 1.378e-02\n",
      "jump 4.072e+00, Exp jump3.375e+00, accept 0.918,log_a -4.198e-02, sldjxx 0.138,beta 5.961e-01, epsi 1.386e-02\n",
      "jump 4.182e+00, Exp jump3.250e+00, accept 0.896,log_a -7.608e-02, sldjxx 0.167,beta 6.364e-01, epsi 1.389e-02\n",
      "1ksteps done, now 1000\n",
      "jump 4.380e+00, Exp jump3.291e+00, accept 0.919,log_a -4.920e-02, sldjxx 0.173,beta 6.543e-01, epsi 1.393e-02\n",
      "jump 4.700e+00, Exp jump4.002e+00, accept 0.914,log_a -2.734e-02, sldjxx 0.183,beta 6.760e-01, epsi 1.398e-02\n",
      "jump 4.185e+00, Exp jump3.359e+00, accept 0.911,log_a -5.345e-02, sldjxx 0.149,beta 6.837e-01, epsi 1.400e-02\n",
      "jump 5.234e+00, Exp jump3.843e+00, accept 0.892,log_a -5.908e-02, sldjxx 0.220,beta 6.906e-01, epsi 1.404e-02\n",
      "jump 4.538e+00, Exp jump3.766e+00, accept 0.901,log_a -5.682e-02, sldjxx 0.203,beta 7.007e-01, epsi 1.407e-02\n",
      "jump 5.335e+00, Exp jump3.824e+00, accept 0.874,log_a -1.307e-01, sldjxx 0.235,beta 6.827e-01, epsi 1.408e-02\n",
      "jump 5.475e+00, Exp jump3.916e+00, accept 0.880,log_a -8.729e-02, sldjxx 0.250,beta 6.833e-01, epsi 1.412e-02\n",
      "jump 5.281e+00, Exp jump3.790e+00, accept 0.914,log_a -5.016e-02, sldjxx 0.204,beta 7.020e-01, epsi 1.415e-02\n",
      "jump 5.531e+00, Exp jump3.765e+00, accept 0.901,log_a -8.679e-02, sldjxx 0.215,beta 7.101e-01, epsi 1.417e-02\n",
      "jump 4.863e+00, Exp jump3.709e+00, accept 0.902,log_a -5.261e-02, sldjxx 0.220,beta 7.106e-01, epsi 1.420e-02\n",
      "1ksteps done, now 2000\n",
      "jump 5.764e+00, Exp jump4.235e+00, accept 0.889,log_a -5.861e-02, sldjxx 0.247,beta 7.232e-01, epsi 1.422e-02\n",
      "jump 5.460e+00, Exp jump3.554e+00, accept 0.922,log_a -5.287e-02, sldjxx 0.187,beta 7.208e-01, epsi 1.424e-02\n",
      "jump 4.591e+00, Exp jump3.234e+00, accept 0.912,log_a -5.626e-02, sldjxx 0.213,beta 7.099e-01, epsi 1.424e-02\n",
      "jump 4.691e+00, Exp jump3.549e+00, accept 0.913,log_a -4.396e-02, sldjxx 0.225,beta 6.993e-01, epsi 1.427e-02\n",
      "jump 5.020e+00, Exp jump3.758e+00, accept 0.912,log_a -5.872e-02, sldjxx 0.216,beta 7.046e-01, epsi 1.429e-02\n",
      "jump 4.998e+00, Exp jump3.580e+00, accept 0.874,log_a -1.108e-01, sldjxx 0.258,beta 7.229e-01, epsi 1.431e-02\n",
      "jump 4.962e+00, Exp jump3.699e+00, accept 0.894,log_a -8.199e-02, sldjxx 0.246,beta 7.223e-01, epsi 1.432e-02\n"
     ]
    }
   ],
   "source": [
    "#train with real samples\n",
    "bs = 512\n",
    "for i in range(5000):\n",
    "    x_init = dist.sample(bs)\n",
    "    x, accept_rate, sldjxx, L2jump = RW_controller.sample_train(x_init,T=1,print_log= (True if i%100==0 else False))\n",
    "    #adjust_lr(RW_controller,i,warmup=False,min_lr=1e-2)\n",
    "    if i>5 and i%1000 == 0:\n",
    "        print('1ksteps done, now {}'.format(i))"
   ]
  },
  {
   "cell_type": "markdown",
   "metadata": {},
   "source": [
    "### Visualize learned proposal distribution\n",
    "\n",
    "Yellow dot is initial point, blue dots are accepted samples, black are rejected ones."
   ]
  },
  {
   "cell_type": "code",
   "execution_count": 4,
   "metadata": {},
   "outputs": [
    {
     "data": {
      "image/png": "[encoded data removed]",
      "text/plain": [
       "<Figure size 432x288 with 1 Axes>"
      ]
     },
     "metadata": {
      "needs_background": "light"
     },
     "output_type": "display_data"
    }
   ],
   "source": [
    "bs = 4096\n",
    "x_init = torch.tensor([-2.,0.]).view(1,-1) #x at an extreme location, similar to Figure in the paper\n",
    "#x_init = dist.sample(1) #Use this line for a random point from the distribution\n",
    "x = x_init.expand((bs,data_dim)).clone()\n",
    "xa, xp, accept_vect,_ = RW_controller.sample(x.clone(),1,grad=False,T=1)\n",
    "\n",
    "plot_range = 8\n",
    "res = 1024\n",
    "Temp = 2 #temperature for better visuals\n",
    "dist2d = dist\n",
    "Eplot = dist2d.Ex\n",
    "x = np.linspace(-plot_range,plot_range,res)\n",
    "xx,yy = np.meshgrid(x,x)\n",
    "xy_batch = np.stack([xx.flatten(),yy.flatten()],axis=1)\n",
    "Exy = Eplot(torch.from_numpy(xy_batch).float())/Temp\n",
    "Exy = Exy - Exy.min()\n",
    "p_batch = (-Exy).exp().numpy()\n",
    "p_batch = p_batch/p_batch.max()\n",
    "p_batch = np.flip(p_batch.reshape(res,res),axis=0)\n",
    "\n",
    "bkg_img = 1 - np.stack((0*p_batch,0.5*p_batch,0.5*p_batch),axis=2)\n",
    "\n",
    "\n",
    "x_init_np = x_init.detach().cpu().numpy()\n",
    "xp_np = xp.detach().cpu().numpy()\n",
    "c_vect = accept_vect.detach().cpu().float().numpy()\n",
    "c_vect = np.stack((0*c_vect,0.5*c_vect,1*c_vect),axis=1)\n",
    "#xp_np = torch.randn_like(xp).cpu().numpy()\n",
    "fig, ax = plt.subplots()\n",
    "ax.imshow(bkg_img,extent=[-plot_range,plot_range,-plot_range,plot_range])\n",
    "ax.scatter(xp_np[:,0],xp_np[:,1],s = 0.15,c=c_vect,alpha=0.1,marker=',')\n",
    "ax.scatter(x_init_np[:,0],x_init_np[:,1],s=20,c='y')\n",
    "ax.set_aspect(1)\n",
    "ax.set_xlim(-plot_range,plot_range)\n",
    "ax.set_ylim(-plot_range,plot_range)\n",
    "ax.set_axis_off()\n",
    "plt.show()"
   ]
  },
  {
   "cell_type": "markdown",
   "metadata": {},
   "source": [
    "### Sample contimuously for 1000 steps"
   ]
  },
  {
   "cell_type": "code",
   "execution_count": 30,
   "metadata": {
    "scrolled": true
   },
   "outputs": [
    {
     "name": "stdout",
     "output_type": "stream",
     "text": [
      "accept 0.8984375\n",
      "accept 0.9072265625\n",
      "accept 0.9033203125\n",
      "accept 0.9111328125\n",
      "accept 0.9052734375\n",
      "accept 0.896484375\n",
      "accept 0.904296875\n",
      "accept 0.8955078125\n",
      "accept 0.8896484375\n",
      "accept 0.9033203125\n"
     ]
    }
   ],
   "source": [
    "bs = 1024\n",
    "x = dist.sample(bs)\n",
    "x_list = []\n",
    "for i in range(1000):\n",
    "    x,xp,accept_vect,_ = RW_controller.sample(x,1,grad=False,print_log= True if i%100==0 else False,)\n",
    "    x_list.append(x.clone())"
   ]
  },
  {
   "cell_type": "markdown",
   "metadata": {},
   "source": [
    "### Visualize distribution in the batch at the last time point\n",
    "\n",
    "Should see fair samples from the moon distribution"
   ]
  },
  {
   "cell_type": "code",
   "execution_count": 33,
   "metadata": {},
   "outputs": [
    {
     "data": {
      "image/png": "[encoded data removed]",
      "text/plain": [
       "<Figure size 432x288 with 1 Axes>"
      ]
     },
     "metadata": {
      "needs_background": "light"
     },
     "output_type": "display_data"
    }
   ],
   "source": [
    "xp_np = x_list[-1].detach().cpu().numpy()\n",
    "fig, ax = plt.subplots()\n",
    "ax.imshow(bkg_img,extent=[-plot_range,plot_range,-plot_range,plot_range])\n",
    "ax.scatter(xp_np[:,0],xp_np[:,1],s = 0.6,alpha=0.2)\n",
    "ax.set_aspect(1)\n",
    "ax.set_xlim(-plot_range,plot_range)\n",
    "ax.set_ylim(-plot_range,plot_range)\n",
    "ax.set_axis_off()\n",
    "plt.show()"
   ]
  },
  {
   "cell_type": "markdown",
   "metadata": {},
   "source": [
    "### Visualize the evolution of first dimension (horizontal axis), \n",
    "\n",
    "Should be a Gaussian with little correlation."
   ]
  },
  {
   "cell_type": "code",
   "execution_count": 1,
   "metadata": {},
   "outputs": [
    {
     "ename": "NameError",
     "evalue": "name 'torch' is not defined",
     "output_type": "error",
     "traceback": [
      "\u001b[0;31m---------------------------------------------------------------------------\u001b[0m",
      "\u001b[0;31mNameError\u001b[0m                                 Traceback (most recent call last)",
      "\u001b[0;32m<ipython-input-1-f55aea41f01d>\u001b[0m in \u001b[0;36m<module>\u001b[0;34m\u001b[0m\n\u001b[1;32m      1\u001b[0m \u001b[0mbatch_i\u001b[0m \u001b[0;34m=\u001b[0m \u001b[0;36m159\u001b[0m\u001b[0;34m\u001b[0m\u001b[0;34m\u001b[0m\u001b[0m\n\u001b[1;32m      2\u001b[0m \u001b[0mvisualize_dim\u001b[0m \u001b[0;34m=\u001b[0m \u001b[0;36m0\u001b[0m\u001b[0;34m\u001b[0m\u001b[0;34m\u001b[0m\u001b[0m\n\u001b[0;32m----> 3\u001b[0;31m \u001b[0my_vect\u001b[0m \u001b[0;34m=\u001b[0m \u001b[0mtorch\u001b[0m\u001b[0;34m.\u001b[0m\u001b[0mstack\u001b[0m\u001b[0;34m(\u001b[0m\u001b[0mx_list\u001b[0m\u001b[0;34m,\u001b[0m\u001b[0mdim\u001b[0m\u001b[0;34m=\u001b[0m\u001b[0;36m0\u001b[0m\u001b[0;34m)\u001b[0m\u001b[0;34m[\u001b[0m\u001b[0;36m0\u001b[0m\u001b[0;34m:\u001b[0m\u001b[0;34m,\u001b[0m\u001b[0mbatch_i\u001b[0m\u001b[0;34m,\u001b[0m\u001b[0mvisualize_dim\u001b[0m\u001b[0;34m]\u001b[0m\u001b[0;34m.\u001b[0m\u001b[0mdetach\u001b[0m\u001b[0;34m(\u001b[0m\u001b[0;34m)\u001b[0m\u001b[0;34m.\u001b[0m\u001b[0mcpu\u001b[0m\u001b[0;34m(\u001b[0m\u001b[0;34m)\u001b[0m\u001b[0;34m.\u001b[0m\u001b[0mnumpy\u001b[0m\u001b[0;34m(\u001b[0m\u001b[0;34m)\u001b[0m\u001b[0;34m\u001b[0m\u001b[0;34m\u001b[0m\u001b[0m\n\u001b[0m\u001b[1;32m      4\u001b[0m \u001b[0mfig\u001b[0m\u001b[0;34m,\u001b[0m \u001b[0max\u001b[0m \u001b[0;34m=\u001b[0m \u001b[0mplt\u001b[0m\u001b[0;34m.\u001b[0m\u001b[0msubplots\u001b[0m\u001b[0;34m(\u001b[0m\u001b[0;34m)\u001b[0m\u001b[0;34m\u001b[0m\u001b[0;34m\u001b[0m\u001b[0m\n\u001b[1;32m      5\u001b[0m \u001b[0max\u001b[0m\u001b[0;34m.\u001b[0m\u001b[0mplot\u001b[0m\u001b[0;34m(\u001b[0m\u001b[0my_vect\u001b[0m\u001b[0;34m,\u001b[0m\u001b[0;34m'.'\u001b[0m\u001b[0;34m)\u001b[0m\u001b[0;34m\u001b[0m\u001b[0;34m\u001b[0m\u001b[0m\n",
      "\u001b[0;31mNameError\u001b[0m: name 'torch' is not defined"
     ]
    }
   ],
   "source": [
    "batch_i = 159\n",
    "visualize_dim = 0 #change to 1 for the vertical axis\n",
    "y_vect = torch.stack(x_list,dim=0)[0:,batch_i,visualize_dim].detach().cpu().numpy()\n",
    "fig, ax = plt.subplots()\n",
    "ax.plot(y_vect,'.')\n",
    "y_mean, y_std = y_vect.mean(), y_vect.std()\n",
    "print('y mean {}, y std {}'.format(y_mean.item(), y_std.item()))"
   ]
  },
  {
   "cell_type": "code",
   "execution_count": null,
   "metadata": {},
   "outputs": [],
   "source": []
  }
 ],
 "metadata": {
  "kernelspec": {
   "display_name": "Python 3",
   "language": "python",
   "name": "python3"
  },
  "language_info": {
   "codemirror_mode": {
    "name": "ipython",
    "version": 3
   },
   "file_extension": ".py",
   "mimetype": "text/x-python",
   "name": "python",
   "nbconvert_exporter": "python",
   "pygments_lexer": "ipython3",
   "version": "3.6.9"
  }
 },
 "nbformat": 4,
 "nbformat_minor": 4
}
