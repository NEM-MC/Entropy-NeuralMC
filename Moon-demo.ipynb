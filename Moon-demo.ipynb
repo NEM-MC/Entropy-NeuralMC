{
 "cells": [
  {
   "cell_type": "markdown",
   "metadata": {},
   "source": [
    "# Demontration of neural network MCMC sampler trained with maximum Entropy objective \n"
   ]
  },
  {
   "cell_type": "markdown",
   "metadata": {},
   "source": [
    "## Please run Cells in the order provided.\n",
    "\n",
    "Requirements: pytorch 1.6.0 (cuda not required), numpy, matplotlib"
   ]
  },
  {
   "cell_type": "markdown",
   "metadata": {},
   "source": [
    "### First we import modules and setup the model"
   ]
  },
  {
   "cell_type": "code",
   "execution_count": 1,
   "metadata": {},
   "outputs": [],
   "source": [
    "import numpy as np\n",
    "import matplotlib.pyplot as plt\n",
    "import torch\n",
    "import torch.nn as nn\n",
    "from L2RW_models import L2GradRW, CovMALA\n",
    "from L2RW import L2GradRW_M, adjust_lr\n",
    "from distributions import distributions"
   ]
  },
  {
   "cell_type": "code",
   "execution_count": 2,
   "metadata": {},
   "outputs": [],
   "source": [
    "data_dim = 2\n",
    "dim = 32\n",
    "N_steps = 2\n",
    "dist = distributions('moon',d=data_dim)\n",
    "RW = L2GradRW(dist.Ex,data_dim,dim,N_steps,epsi=0.01,net_type='MLP',grad_mode='R',bias=True,act='elu') #diag_gaussian example use 0.001 epsi init\n",
    "RW_controller = L2GradRW_M(RW,beta=1e-2,beta_max=1e3,rho_beta=0.1,adapt_beta=True,a_target=0.9,\n",
    "                 lr=1e-3,momo=0.9,rms_momo=0.95,grad_norm=10,N_steps=5000)"
   ]
  },
  {
   "cell_type": "markdown",
   "metadata": {},
   "source": [
    "### Train the Sampler\n",
    "\n",
    "sldjxx is the proposal entropy (up to a constant equal to the entropy of Gaussian), it should increase during training"
   ]
  },
  {
   "cell_type": "code",
   "execution_count": null,
   "metadata": {
    "scrolled": true
   },
   "outputs": [
    {
     "name": "stdout",
     "output_type": "stream",
     "text": [
      "jump 1.037e-04, Exp jump1.037e-04, accept 1.000,log_a -3.993e-08, sldjxx -9.210,beta 1.010e-02, epsi 1.001e-02\n",
      "jump 6.055e-03, Exp jump5.980e-03, accept 0.986,log_a 1.601e-03, sldjxx -5.229,beta 2.582e-02, epsi 1.109e-02\n",
      "jump 2.731e-01, Exp jump2.656e-01, accept 0.977,log_a -3.083e-03, sldjxx -1.637,beta 5.887e-02, epsi 1.220e-02\n",
      "jump 9.075e-01, Exp jump8.443e-01, accept 0.966,log_a -1.321e-02, sldjxx -0.957,beta 1.169e-01, epsi 1.279e-02\n",
      "jump 1.253e+00, Exp jump1.192e+00, accept 0.956,log_a -9.037e-03, sldjxx -0.679,beta 2.136e-01, epsi 1.295e-02\n",
      "jump 1.900e+00, Exp jump1.595e+00, accept 0.919,log_a -5.071e-02, sldjxx -0.347,beta 3.186e-01, epsi 1.310e-02\n",
      "jump 2.672e+00, Exp jump2.032e+00, accept 0.910,log_a -8.190e-02, sldjxx -0.270,beta 3.766e-01, epsi 1.318e-02\n",
      "jump 3.502e+00, Exp jump2.775e+00, accept 0.892,log_a -4.817e-02, sldjxx -0.089,beta 3.937e-01, epsi 1.325e-02\n",
      "jump 3.447e+00, Exp jump2.812e+00, accept 0.910,log_a -4.692e-02, sldjxx -0.065,beta 4.050e-01, epsi 1.326e-02\n",
      "jump 3.200e+00, Exp jump2.466e+00, accept 0.905,log_a -9.465e-02, sldjxx -0.009,beta 4.243e-01, epsi 1.329e-02\n",
      "jump 3.890e+00, Exp jump3.058e+00, accept 0.910,log_a -6.534e-02, sldjxx 0.019,beta 4.438e-01, epsi 1.332e-02\n",
      "1ksteps done, now 1000\n",
      "jump 4.301e+00, Exp jump3.607e+00, accept 0.922,log_a -3.120e-02, sldjxx 0.037,beta 4.809e-01, epsi 1.334e-02\n",
      "jump 4.543e+00, Exp jump3.674e+00, accept 0.918,log_a -3.224e-02, sldjxx 0.068,beta 5.025e-01, epsi 1.335e-02\n",
      "jump 5.039e+00, Exp jump4.173e+00, accept 0.897,log_a -6.504e-02, sldjxx 0.076,beta 5.193e-01, epsi 1.337e-02\n",
      "jump 4.080e+00, Exp jump3.323e+00, accept 0.915,log_a -4.225e-02, sldjxx 0.082,beta 5.221e-01, epsi 1.339e-02\n",
      "jump 4.406e+00, Exp jump3.649e+00, accept 0.898,log_a -5.422e-02, sldjxx 0.113,beta 5.320e-01, epsi 1.341e-02\n",
      "jump 4.789e+00, Exp jump3.537e+00, accept 0.895,log_a -5.521e-02, sldjxx 0.113,beta 5.550e-01, epsi 1.343e-02\n",
      "jump 4.714e+00, Exp jump3.929e+00, accept 0.913,log_a -4.840e-02, sldjxx 0.132,beta 5.773e-01, epsi 1.345e-02\n",
      "jump 4.273e+00, Exp jump3.327e+00, accept 0.899,log_a -5.274e-02, sldjxx 0.167,beta 5.905e-01, epsi 1.347e-02\n",
      "jump 4.813e+00, Exp jump3.880e+00, accept 0.904,log_a -6.977e-02, sldjxx 0.120,beta 5.952e-01, epsi 1.349e-02\n",
      "jump 4.032e+00, Exp jump3.120e+00, accept 0.906,log_a -4.797e-02, sldjxx 0.181,beta 6.064e-01, epsi 1.352e-02\n",
      "1ksteps done, now 2000\n",
      "jump 5.804e+00, Exp jump4.210e+00, accept 0.900,log_a -5.483e-02, sldjxx 0.193,beta 6.308e-01, epsi 1.354e-02\n",
      "jump 4.803e+00, Exp jump3.607e+00, accept 0.915,log_a -4.341e-02, sldjxx 0.147,beta 6.388e-01, epsi 1.356e-02\n",
      "jump 5.018e+00, Exp jump3.637e+00, accept 0.899,log_a -6.630e-02, sldjxx 0.208,beta 6.642e-01, epsi 1.357e-02\n",
      "jump 5.342e+00, Exp jump3.447e+00, accept 0.885,log_a -7.854e-02, sldjxx 0.211,beta 6.598e-01, epsi 1.359e-02\n",
      "jump 4.857e+00, Exp jump3.674e+00, accept 0.913,log_a -4.169e-02, sldjxx 0.211,beta 6.701e-01, epsi 1.360e-02\n",
      "jump 4.136e+00, Exp jump3.245e+00, accept 0.896,log_a -7.174e-02, sldjxx 0.230,beta 6.698e-01, epsi 1.361e-02\n",
      "jump 4.672e+00, Exp jump3.398e+00, accept 0.911,log_a -5.627e-02, sldjxx 0.198,beta 6.664e-01, epsi 1.363e-02\n",
      "jump 5.380e+00, Exp jump3.748e+00, accept 0.899,log_a -8.837e-02, sldjxx 0.209,beta 6.782e-01, epsi 1.364e-02\n",
      "jump 4.981e+00, Exp jump3.135e+00, accept 0.891,log_a -7.067e-02, sldjxx 0.240,beta 6.713e-01, epsi 1.366e-02\n",
      "jump 5.623e+00, Exp jump4.003e+00, accept 0.902,log_a -5.537e-02, sldjxx 0.212,beta 6.846e-01, epsi 1.367e-02\n",
      "1ksteps done, now 3000\n",
      "jump 5.305e+00, Exp jump3.459e+00, accept 0.902,log_a -5.675e-02, sldjxx 0.208,beta 6.965e-01, epsi 1.368e-02\n",
      "jump 5.043e+00, Exp jump3.793e+00, accept 0.902,log_a -5.505e-02, sldjxx 0.221,beta 7.070e-01, epsi 1.369e-02\n",
      "jump 4.579e+00, Exp jump3.419e+00, accept 0.911,log_a -5.129e-02, sldjxx 0.220,beta 6.946e-01, epsi 1.370e-02\n",
      "jump 4.790e+00, Exp jump3.513e+00, accept 0.904,log_a -6.486e-02, sldjxx 0.228,beta 6.990e-01, epsi 1.371e-02\n",
      "jump 5.310e+00, Exp jump3.648e+00, accept 0.904,log_a -6.167e-02, sldjxx 0.236,beta 6.949e-01, epsi 1.373e-02\n",
      "jump 4.544e+00, Exp jump3.188e+00, accept 0.897,log_a -8.622e-02, sldjxx 0.223,beta 6.985e-01, epsi 1.374e-02\n"
     ]
    }
   ],
   "source": [
    "#train with real samples\n",
    "bs = 512\n",
    "for i in range(5000):\n",
    "    x_init = dist.sample(bs)\n",
    "    x, accept_rate, sldjxx, L2jump = RW_controller.sample_train(x_init,T=1,print_log= (True if i%100==0 else False))\n",
    "    #adjust_lr(RW_controller,i,warmup=False,min_lr=1e-2)\n",
    "    if i>5 and i%1000 == 0:\n",
    "        print('1ksteps done, now {}'.format(i))"
   ]
  },
  {
   "cell_type": "markdown",
   "metadata": {},
   "source": [
    "### Visualize learned proposal distribution\n",
    "\n",
    "Yellow dot is initial point, blue dots are accepted samples, black are rejected ones."
   ]
  },
  {
   "cell_type": "code",
   "execution_count": 4,
   "metadata": {},
   "outputs": [
    {
     "data": {
      "image/png": "[encoded data removed]",
      "text/plain": [
       "<Figure size 432x288 with 1 Axes>"
      ]
     },
     "metadata": {
      "needs_background": "light"
     },
     "output_type": "display_data"
    }
   ],
   "source": [
    "bs = 4096\n",
    "x_init = torch.tensor([-2.,0.]).view(1,-1) #x at an extreme location, similar to Figure in the paper\n",
    "#x_init = dist.sample(1) #Use this line for a random point from the distribution\n",
    "x = x_init.expand((bs,data_dim)).clone()\n",
    "xa, xp, accept_vect,_ = RW_controller.sample(x.clone(),1,grad=False,T=1)\n",
    "\n",
    "plot_range = 8\n",
    "res = 1024\n",
    "Temp = 2 #temperature for better visuals\n",
    "dist2d = dist\n",
    "Eplot = dist2d.Ex\n",
    "x = np.linspace(-plot_range,plot_range,res)\n",
    "xx,yy = np.meshgrid(x,x)\n",
    "xy_batch = np.stack([xx.flatten(),yy.flatten()],axis=1)\n",
    "Exy = Eplot(torch.from_numpy(xy_batch).float())/Temp\n",
    "Exy = Exy - Exy.min()\n",
    "p_batch = (-Exy).exp().numpy()\n",
    "p_batch = p_batch/p_batch.max()\n",
    "p_batch = np.flip(p_batch.reshape(res,res),axis=0)\n",
    "\n",
    "bkg_img = 1 - np.stack((0*p_batch,0.5*p_batch,0.5*p_batch),axis=2)\n",
    "\n",
    "\n",
    "x_init_np = x_init.detach().cpu().numpy()\n",
    "xp_np = xp.detach().cpu().numpy()\n",
    "c_vect = accept_vect.detach().cpu().float().numpy()\n",
    "c_vect = np.stack((0*c_vect,0.5*c_vect,1*c_vect),axis=1)\n",
    "#xp_np = torch.randn_like(xp).cpu().numpy()\n",
    "fig, ax = plt.subplots()\n",
    "ax.imshow(bkg_img,extent=[-plot_range,plot_range,-plot_range,plot_range])\n",
    "ax.scatter(xp_np[:,0],xp_np[:,1],s = 0.15,c=c_vect,alpha=0.1,marker=',')\n",
    "ax.scatter(x_init_np[:,0],x_init_np[:,1],s=20,c='y')\n",
    "ax.set_aspect(1)\n",
    "ax.set_xlim(-plot_range,plot_range)\n",
    "ax.set_ylim(-plot_range,plot_range)\n",
    "ax.set_axis_off()\n",
    "plt.show()"
   ]
  },
  {
   "cell_type": "markdown",
   "metadata": {},
   "source": [
    "### Sample contimuously for 1000 steps"
   ]
  },
  {
   "cell_type": "code",
   "execution_count": 30,
   "metadata": {
    "scrolled": true
   },
   "outputs": [
    {
     "name": "stdout",
     "output_type": "stream",
     "text": [
      "accept 0.8984375\n",
      "accept 0.9072265625\n",
      "accept 0.9033203125\n",
      "accept 0.9111328125\n",
      "accept 0.9052734375\n",
      "accept 0.896484375\n",
      "accept 0.904296875\n",
      "accept 0.8955078125\n",
      "accept 0.8896484375\n",
      "accept 0.9033203125\n"
     ]
    }
   ],
   "source": [
    "bs = 1024\n",
    "x = dist.sample(bs)\n",
    "x_list = []\n",
    "for i in range(1000):\n",
    "    x,xp,accept_vect,_ = RW_controller.sample(x,1,grad=False,print_log= True if i%100==0 else False,)\n",
    "    x_list.append(x.clone())"
   ]
  },
  {
   "cell_type": "markdown",
   "metadata": {},
   "source": [
    "### Visualize distribution in the batch at the last time point\n",
    "\n",
    "Should see fair samples from the moon distribution"
   ]
  },
  {
   "cell_type": "code",
   "execution_count": 33,
   "metadata": {},
   "outputs": [
    {
     "data": {
      "image/png": "[encoded data removed]",
      "text/plain": [
       "<Figure size 432x288 with 1 Axes>"
      ]
     },
     "metadata": {
      "needs_background": "light"
     },
     "output_type": "display_data"
    }
   ],
   "source": [
    "xp_np = x_list[-1].detach().cpu().numpy()\n",
    "fig, ax = plt.subplots()\n",
    "ax.imshow(bkg_img,extent=[-plot_range,plot_range,-plot_range,plot_range])\n",
    "ax.scatter(xp_np[:,0],xp_np[:,1],s = 0.6,alpha=0.2)\n",
    "ax.set_aspect(1)\n",
    "ax.set_xlim(-plot_range,plot_range)\n",
    "ax.set_ylim(-plot_range,plot_range)\n",
    "ax.set_axis_off()\n",
    "plt.show()"
   ]
  },
  {
   "cell_type": "markdown",
   "metadata": {},
   "source": [
    "### Visualize the evolution of first dimension (horizontal axis), \n",
    "\n",
    "Should be a Gaussian with little correlation."
   ]
  },
  {
   "cell_type": "code",
   "execution_count": 1,
   "metadata": {},
   "outputs": [
    {
     "ename": "NameError",
     "evalue": "name 'torch' is not defined",
     "output_type": "error",
     "traceback": [
      "\u001b[0;31m---------------------------------------------------------------------------\u001b[0m",
      "\u001b[0;31mNameError\u001b[0m                                 Traceback (most recent call last)",
      "\u001b[0;32m<ipython-input-1-f55aea41f01d>\u001b[0m in \u001b[0;36m<module>\u001b[0;34m\u001b[0m\n\u001b[1;32m      1\u001b[0m \u001b[0mbatch_i\u001b[0m \u001b[0;34m=\u001b[0m \u001b[0;36m159\u001b[0m\u001b[0;34m\u001b[0m\u001b[0;34m\u001b[0m\u001b[0m\n\u001b[1;32m      2\u001b[0m \u001b[0mvisualize_dim\u001b[0m \u001b[0;34m=\u001b[0m \u001b[0;36m0\u001b[0m\u001b[0;34m\u001b[0m\u001b[0;34m\u001b[0m\u001b[0m\n\u001b[0;32m----> 3\u001b[0;31m \u001b[0my_vect\u001b[0m \u001b[0;34m=\u001b[0m \u001b[0mtorch\u001b[0m\u001b[0;34m.\u001b[0m\u001b[0mstack\u001b[0m\u001b[0;34m(\u001b[0m\u001b[0mx_list\u001b[0m\u001b[0;34m,\u001b[0m\u001b[0mdim\u001b[0m\u001b[0;34m=\u001b[0m\u001b[0;36m0\u001b[0m\u001b[0;34m)\u001b[0m\u001b[0;34m[\u001b[0m\u001b[0;36m0\u001b[0m\u001b[0;34m:\u001b[0m\u001b[0;34m,\u001b[0m\u001b[0mbatch_i\u001b[0m\u001b[0;34m,\u001b[0m\u001b[0mvisualize_dim\u001b[0m\u001b[0;34m]\u001b[0m\u001b[0;34m.\u001b[0m\u001b[0mdetach\u001b[0m\u001b[0;34m(\u001b[0m\u001b[0;34m)\u001b[0m\u001b[0;34m.\u001b[0m\u001b[0mcpu\u001b[0m\u001b[0;34m(\u001b[0m\u001b[0;34m)\u001b[0m\u001b[0;34m.\u001b[0m\u001b[0mnumpy\u001b[0m\u001b[0;34m(\u001b[0m\u001b[0;34m)\u001b[0m\u001b[0;34m\u001b[0m\u001b[0;34m\u001b[0m\u001b[0m\n\u001b[0m\u001b[1;32m      4\u001b[0m \u001b[0mfig\u001b[0m\u001b[0;34m,\u001b[0m \u001b[0max\u001b[0m \u001b[0;34m=\u001b[0m \u001b[0mplt\u001b[0m\u001b[0;34m.\u001b[0m\u001b[0msubplots\u001b[0m\u001b[0;34m(\u001b[0m\u001b[0;34m)\u001b[0m\u001b[0;34m\u001b[0m\u001b[0;34m\u001b[0m\u001b[0m\n\u001b[1;32m      5\u001b[0m \u001b[0max\u001b[0m\u001b[0;34m.\u001b[0m\u001b[0mplot\u001b[0m\u001b[0;34m(\u001b[0m\u001b[0my_vect\u001b[0m\u001b[0;34m,\u001b[0m\u001b[0;34m'.'\u001b[0m\u001b[0;34m)\u001b[0m\u001b[0;34m\u001b[0m\u001b[0;34m\u001b[0m\u001b[0m\n",
      "\u001b[0;31mNameError\u001b[0m: name 'torch' is not defined"
     ]
    }
   ],
   "source": [
    "batch_i = 159\n",
    "visualize_dim = 0 #change to 1 for the vertical axis\n",
    "y_vect = torch.stack(x_list,dim=0)[0:,batch_i,visualize_dim].detach().cpu().numpy()\n",
    "fig, ax = plt.subplots()\n",
    "ax.plot(y_vect,'.')\n",
    "y_mean, y_std = y_vect.mean(), y_vect.std()\n",
    "print('y mean {}, y std {}'.format(y_mean.item(), y_std.item()))"
   ]
  },
  {
   "cell_type": "code",
   "execution_count": null,
   "metadata": {},
   "outputs": [],
   "source": []
  }
 ],
 "metadata": {
  "kernelspec": {
   "display_name": "Python 3",
   "language": "python",
   "name": "python3"
  },
  "language_info": {
   "codemirror_mode": {
    "name": "ipython",
    "version": 3
   },
   "file_extension": ".py",
   "mimetype": "text/x-python",
   "name": "python",
   "nbconvert_exporter": "python",
   "pygments_lexer": "ipython3",
   "version": "3.6.9"
  }
 },
 "nbformat": 4,
 "nbformat_minor": 4
}
